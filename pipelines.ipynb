{
 "cells": [
  {
   "cell_type": "markdown",
   "metadata": {},
   "source": [
    "# Penelope network components pipelines\n",
    "\n",
    "This notebook demonstrates two pipelines that can be achieved using the new complex network components."
   ]
  },
  {
   "cell_type": "markdown",
   "metadata": {},
   "source": [
    "## P1: Community detection and network visualisation \n",
    "\n",
    "<br>\n",
    "\n",
    "![pipeline](./img/p1.png)\n",
    "\n",
    "We demonstrate the first pipeline using the paradigmatic example of the Karate Club graph. We import the data from networkx and convert it to JSON format using the built-in converter.\n",
    "\n",
    "### Prepare graph data"
   ]
  },
  {
   "cell_type": "code",
   "execution_count": null,
   "metadata": {},
   "outputs": [],
   "source": [
    "import networkx as nx\n",
    "kclub = nx.karate_club_graph()\n",
    "kclub = nx.node_link_data(kclub)"
   ]
  },
  {
   "cell_type": "markdown",
   "metadata": {},
   "source": [
    "### Detect communities using Louvain\n",
    "Perform community detection on the network, which enhances the JSON graph by a new key called `\"louvain_com\"`"
   ]
  },
  {
   "cell_type": "code",
   "execution_count": null,
   "metadata": {},
   "outputs": [],
   "source": [
    "import requests\n",
    "\n",
    "jsondata = {'data': kclub,\n",
    "            'resolution': 1.0}\n",
    "\n",
    "response = requests.post('https://penelope.vub.be/network-components/louvain', json=jsondata)\n",
    "louvaingraph = response.json()"
   ]
  },
  {
   "cell_type": "markdown",
   "metadata": {},
   "source": [
    "### Visualise graph\n",
    "Visualise the network, auto-coloring the nodes by the newly found Louvain communities. The visualisation is saved as a html containing the graph information."
   ]
  },
  {
   "cell_type": "code",
   "execution_count": null,
   "metadata": {},
   "outputs": [],
   "source": [
    "jsondata={'data': louvaingraph,\n",
    "          'nodecoloring':'id',\n",
    "          'nodelabel':'id',\n",
    "          'darkmode': False,\n",
    "          'edgevisibility': True,\n",
    "          'particles': False}\n",
    "\n",
    "response = requests.post('https://penelope.vub.be/network-components/visualiser', json=jsondata)\n",
    "html = response.json().get('graph')\n",
    "with open (\"graph.html\", \"w\") as f:\n",
    "    f.write(html)"
   ]
  },
  {
   "cell_type": "markdown",
   "metadata": {},
   "source": [
    "### [Open visualisation](./graph.html)\n",
    "\n",
    "---"
   ]
  },
  {
   "cell_type": "markdown",
   "metadata": {},
   "source": [
    "## P2: Parliamentary speech data visualisation\n",
    "\n",
    "<br>\n",
    "\n",
    "![pipeline](./img/p2.png)"
   ]
  },
  {
   "cell_type": "markdown",
   "metadata": {},
   "source": [
    "### Data retrieval using API\n",
    "Use the Penelope API to retrieve speeches from the UK House of Commons."
   ]
  },
  {
   "cell_type": "code",
   "execution_count": null,
   "metadata": {},
   "outputs": [],
   "source": [
    "import requests\n",
    "json = {'search_query':'Brexit', \n",
    "        'dataset_name':'gbr', \n",
    "        'start_date':'2018-1-1', \n",
    "        'end_date':'2019-1-1'}\n",
    "result = requests.post('https://penelope.vub.be/parliament-data/get-speeches-agg', json=json)"
   ]
  },
  {
   "cell_type": "markdown",
   "metadata": {},
   "source": [
    "### Data selection\n",
    "Pick one discussion from the pool:"
   ]
  },
  {
   "cell_type": "code",
   "execution_count": null,
   "metadata": {},
   "outputs": [],
   "source": [
    "discussiontitles = []\n",
    "for speech in result.json()[\"speeches\"]:\n",
    "    discussiontitles.append(speech[\"discussion_title\"])\n",
    "discussiontitles = set(discussiontitles)\n",
    "\n",
    "chosenspeeches = []\n",
    "for speech in result.json()[\"speeches\"]:\n",
    "    if speech[\"discussion_title\"] == 'LEAVING THE EU: PREPARATIONS 2019-09-03':\n",
    "        chosenspeeches.append(speech)"
   ]
  },
  {
   "cell_type": "markdown",
   "metadata": {},
   "source": [
    "### Split into sentences\n",
    "Split the JSON array into sentences using the [EHAI spacy sentenizer](https://app.swaggerhub.com/apis/EHAI/vub-spacy-services/1.0.0)."
   ]
  },
  {
   "cell_type": "code",
   "execution_count": null,
   "metadata": {},
   "outputs": [],
   "source": [
    "for speech in chosenspeeches:\n",
    "    speech['text'] = speech['text'].replace('hon.', 'hon')\n",
    "\n",
    "texts = [el['text'] for el in chosenspeeches]\n",
    "json={\"texts\":texts,\n",
    "      \"model\":\"en\"}\n",
    "result = requests.post('https://penelope.vub.be/spacy-api/texts-split-sentences',json=json)\n",
    "result = result.json()['texts_sentences']\n",
    "\n",
    "sentenized_speeches = []\n",
    "for i, full_text in enumerate(chosenspeeches):\n",
    "    for sentence in result[i]:\n",
    "        temp = full_text.copy()\n",
    "        del temp['id']\n",
    "        temp['text'] = sentence\n",
    "        sentenized_speeches.append(temp)"
   ]
  },
  {
   "cell_type": "markdown",
   "metadata": {},
   "source": [
    "### Generate Statement Graph\n",
    "\n",
    "Transform the list of statements into a graph:"
   ]
  },
  {
   "cell_type": "code",
   "execution_count": null,
   "metadata": {},
   "outputs": [],
   "source": [
    "jsondata = {\n",
    "    \"data\"          : sentenized_speeches,\n",
    "    \"language\"      : \"en\",\n",
    "    \"relevant_pos\"  : ['ADJ'],\n",
    "    \"ignore\"        : ['Brexit', 'hon', 'friend']\n",
    "}\n",
    "\n",
    "response = requests.post('https://penelope.vub.be/network-components/statementgraphgenerator', json=jsondata)\n",
    "stmgraph = response.json()"
   ]
  },
  {
   "cell_type": "markdown",
   "metadata": {},
   "source": [
    "### Keep only the giant component\n",
    "You might want to keep only the Giant Component of the Statement Graph"
   ]
  },
  {
   "cell_type": "code",
   "execution_count": null,
   "metadata": {},
   "outputs": [],
   "source": [
    "jsondata  = {'data': stmgraph}\n",
    "\n",
    "response  = requests.post('https://penelope.vub.be/network-components/giantcomponent', json=jsondata)\n",
    "giantcomp = response.json()"
   ]
  },
  {
   "cell_type": "markdown",
   "metadata": {},
   "source": [
    "### Visualise the graph\n",
    "Visualise the Statement Graph, auto-coloring the nodes by the speaker's party."
   ]
  },
  {
   "cell_type": "code",
   "execution_count": null,
   "metadata": {},
   "outputs": [],
   "source": [
    "jsondata={'data': giantcomp,\n",
    "          'nodecoloring':'party',\n",
    "          'nodelabel':'text',\n",
    "          'darkmode': False,\n",
    "          'edgevisibility': True,\n",
    "          'particles': False}\n",
    "\n",
    "response = requests.post('https://penelope.vub.be/network-components/visualiser', json=jsondata)\n",
    "\n",
    "html = response.json().get('graph')\n",
    "with open (\"graph.html\", \"w\") as f:\n",
    "    f.write(html)"
   ]
  },
  {
   "cell_type": "markdown",
   "metadata": {},
   "source": [
    "### [Open visualisation](./graph.html)\n",
    "---"
   ]
  }
 ],
 "metadata": {
  "kernelspec": {
   "display_name": "Python 3",
   "language": "python",
   "name": "python3"
  },
  "language_info": {
   "codemirror_mode": {
    "name": "ipython",
    "version": 3
   },
   "file_extension": ".py",
   "mimetype": "text/x-python",
   "name": "python",
   "nbconvert_exporter": "python",
   "pygments_lexer": "ipython3",
   "version": "3.8.0"
  }
 },
 "nbformat": 4,
 "nbformat_minor": 4
}
